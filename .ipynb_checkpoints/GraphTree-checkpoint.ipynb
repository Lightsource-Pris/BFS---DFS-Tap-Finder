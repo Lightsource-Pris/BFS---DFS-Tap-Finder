{
 "cells": [
  {
   "cell_type": "code",
   "execution_count": 1,
   "id": "797f369f",
   "metadata": {},
   "outputs": [],
   "source": [
    "from pyvis.network import Network\n",
    "import networkx as nx"
   ]
  },
  {
   "cell_type": "code",
   "execution_count": 2,
   "id": "0bce4b51",
   "metadata": {},
   "outputs": [],
   "source": [
    "#Define Graph\n",
    "graph = {\n",
    "    1: [2, 6],\n",
    "    2: [1, 3, 7],\n",
    "    3: [2, 4, 8],\n",
    "    4: [3, 9],\n",
    "    5: [4, 35],\n",
    "    6: [1, 7, 11],\n",
    "    7: [2, 6, 8, 12],\n",
    "    8: [3, 7, 9, 13],\n",
    "    9: [4, 8, 10, 14],\n",
    "    10: [5, 9, 15],\n",
    "    11: [6, 12, 16],\n",
    "    12: [7, 11, 13, 17],\n",
    "    13: [8, 12, 14, 18],\n",
    "    14: [9, 13, 15, 19],\n",
    "    15: [10, 14],\n",
    "    16: [11, 17, 21],\n",
    "    17: [12, 16, 18, 22],\n",
    "    18: [13, 17, 19, 23],\n",
    "    19: [14, 18, 24],\n",
    "    20: [15, 19, 25],\n",
    "    21: [16, 22, 26],\n",
    "    22: [17, 21, 23, 27],\n",
    "    23: [18, 22, 24, 28],\n",
    "    24: [19, 23, 25, 29],\n",
    "    25: [20, 24, 30],\n",
    "    26: [21, 27, 31],\n",
    "    27: [5, 26, 28, 32],\n",
    "    28: [23, 27, 29, 33],\n",
    "    29: [24, 28, 30, 34],\n",
    "    30: [5, 25, 29],\n",
    "    31: [26, 32, 36],\n",
    "    32: [20, 27, 31, 33, 37],\n",
    "    33: [28, 32, 34, 38],\n",
    "    34: [29, 33, 35, 39],\n",
    "    35: [30, 34, 40],\n",
    "    36: [31, 37, 41],\n",
    "    37: [32, 36, 38, 42],\n",
    "    38: [33, 37, 39, 43],\n",
    "    39: [34, 38, 40, 44],\n",
    "    40: [35, 39, 45],\n",
    "    41: [36, 42, 46],\n",
    "    42: [37, 41, 43, 47],\n",
    "    43: [38, 42, 44],\n",
    "    44: [39, 43, 45, 49],\n",
    "    45: [40, 44, 50],\n",
    "    46: [41, 47],\n",
    "    47: [42, 46],\n",
    "    48: [43, 47, 49],\n",
    "    49: [44, 50],\n",
    "    50: [45, 49]\n",
    "}\n"
   ]
  },
  {
   "cell_type": "code",
   "execution_count": 3,
   "id": "02bcaec0",
   "metadata": {},
   "outputs": [
    {
     "name": "stdout",
     "output_type": "stream",
     "text": [
      "graph2.html\n"
     ]
    },
    {
     "data": {
      "text/html": [
       "\n",
       "        <iframe\n",
       "            width=\"100%\"\n",
       "            height=\"750px\"\n",
       "            src=\"graph2.html\"\n",
       "            frameborder=\"0\"\n",
       "            allowfullscreen\n",
       "            \n",
       "        ></iframe>\n",
       "        "
      ],
      "text/plain": [
       "<IPython.lib.display.IFrame at 0x10a98f9d0>"
      ]
     },
     "execution_count": 3,
     "metadata": {},
     "output_type": "execute_result"
    }
   ],
   "source": [
    "G = nx.Graph(graph)\n",
    "\n",
    "# Use a layout algorithm to position nodes\n",
    "pos = nx.spring_layout(G)\n",
    "\n",
    "# Rotate positions by 90 degrees\n",
    "rotated_pos = {node: (-y, x) for node, (x, y) in pos.items()}\n",
    "\n",
    "# Create a pyvis network\n",
    "net = Network(notebook=True, height=\"750px\", width=\"100%\", directed=True,cdn_resources='remote')\n",
    "\n",
    "# Add nodes with specific colors and labels\n",
    "for node in graph.keys():\n",
    "    if node == 20 or node == 35 or node == 43:\n",
    "        net.add_node(node, label=str(node), color=\"green\") #goals - nodes with water sources\n",
    "    elif node in [17, 33, 45]:\n",
    "        net.add_node(node, label=str(node), color=\"red\")  #inaccessible nodes\n",
    "    else:\n",
    "        net.add_node(node, label=str(node), color=\"blue\", x=rotated_pos[node][0]*1000, y=rotated_pos[node][1]*1000) #nodes with no water sources \n",
    "\n",
    "# Add edges with arrows\n",
    "for node, neighbors in graph.items():\n",
    "    for neighbor in neighbors:\n",
    "        net.add_edge(node, neighbor)\n",
    "\n",
    "# Show the graph\n",
    "net.show(\"graph2.html\")"
   ]
  }
 ],
 "metadata": {
  "kernelspec": {
   "display_name": "Python 3 (ipykernel)",
   "language": "python",
   "name": "python3"
  },
  "language_info": {
   "codemirror_mode": {
    "name": "ipython",
    "version": 3
   },
   "file_extension": ".py",
   "mimetype": "text/x-python",
   "name": "python",
   "nbconvert_exporter": "python",
   "pygments_lexer": "ipython3",
   "version": "3.11.4"
  }
 },
 "nbformat": 4,
 "nbformat_minor": 5
}
